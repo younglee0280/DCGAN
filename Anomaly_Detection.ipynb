{
  "nbformat": 4,
  "nbformat_minor": 0,
  "metadata": {
    "colab": {
      "provenance": [],
      "toc_visible": true,
      "authorship_tag": "ABX9TyMopnce/YE6EZTyDe7Neze3"
    },
    "kernelspec": {
      "name": "python3",
      "display_name": "Python 3"
    },
    "language_info": {
      "name": "python"
    }
  },
  "cells": [
    {
      "cell_type": "markdown",
      "source": [
        "### 의문 : Labeled data라는 점에서 굳이 Anomaly를 사용하지 않고 Supervised Learning의 Classification 알고리즘을 이용할 수는 없을까?\n",
        "#### 불가능,\n",
        "#### - Anomaly Detection 알고리즘은 데이터 분류 시 밀도를 이용(밀도가 아주 낮으니 Anomaly야!)\n",
        "#### - Logistic Regression 알고리즘은 정상적 데이터와 비정상적 데이터가 각각 학습되어야 하는 알고리즘의 특성(정상적인 데이터가 아니니 비정상 데이터야!가 아님), Anomaly한 데이터 검출 불가능"
      ],
      "metadata": {
        "id": "qAZMTSVd0VeQ"
      }
    },
    {
      "cell_type": "markdown",
      "source": [
        "그럼 요런 아이디어는 어떨까"
      ],
      "metadata": {
        "id": "W1xvYjxv4DDT"
      }
    },
    {
      "cell_type": "markdown",
      "source": [
        "### GAN(Generative Adversarial Network) : 비지도학습의 대표적인 알고리즘, 경찰과 위조지폐범 사이의 게임\n",
        "##### 비지도 학습 모델을 사용함으로써 이상치 데이터가 매우 적은 클래스 불균형 문제에 영향 받지 않음 + 레이블이 없어도 이상치 데이터 판별 가능 + 새로운 데이터로 새로운 이상치 탐지 모델 개발 가능"
      ],
      "metadata": {
        "id": "I5JF9xVMxERq"
      }
    },
    {
      "cell_type": "markdown",
      "source": [
        "#### Generator : 최대한 진짜 같은 데이터를 만듬\n",
        "#### Discriminator : Generator와 반대로 위조 데이터와 진짜 데이터를 감별하려고 실력을 키워나감\n",
        "#### Discriminator의 예측 결과에 따라 각 모델의 Loss가 결정되어 서로 학습을 반복, 이 둘은 상호 발전되어 Discriminator 모델이 Generator 모델이 만드는 데이터를 구별하기 힘들 정도로 만들어 나가는 것을 목표로 한다."
      ],
      "metadata": {
        "id": "RHb0EsQdzJbn"
      }
    },
    {
      "cell_type": "code",
      "execution_count": null,
      "metadata": {
        "id": "8FbHV8E8wJ8U"
      },
      "outputs": [],
      "source": []
    }
  ]
}