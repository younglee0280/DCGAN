{
  "nbformat": 4,
  "nbformat_minor": 0,
  "metadata": {
    "colab": {
      "provenance": [],
      "authorship_tag": "ABX9TyOJgYYb4lbW7Duz9idPe0WS",
      "include_colab_link": true
    },
    "kernelspec": {
      "name": "python3",
      "display_name": "Python 3"
    },
    "language_info": {
      "name": "python"
    }
  },
  "cells": [
    {
      "cell_type": "markdown",
      "metadata": {
        "id": "view-in-github",
        "colab_type": "text"
      },
      "source": [
        "<a href=\"https://colab.research.google.com/github/younglee0280/DCGAN/blob/main/GAN.ipynb\" target=\"_parent\"><img src=\"https://colab.research.google.com/assets/colab-badge.svg\" alt=\"Open In Colab\"/></a>"
      ]
    },
    {
      "cell_type": "markdown",
      "source": [
        "### 의문 : Labeled data라는 점에서 굳이 Anomaly를 사용하지 않고 Supervised Learning의 Classification 알고리즘을 이용할 수는 없을까?\n",
        "#### 불가능,\n",
        "#### - Anomaly Detection 알고리즘은 데이터 분류 시 밀도를 이용\n",
        "#### - Logistic Regression 알고리즘은 정상적 데이터와 비정상적 데이터가 각각 학습되어야 하는 알고리즘의 특성 상 Anomaly한 데이터 검출 불가능"
      ],
      "metadata": {
        "id": "qAZMTSVd0VeQ"
      }
    },
    {
      "cell_type": "markdown",
      "source": [
        "그럼 이런 건 어떨까...."
      ],
      "metadata": {
        "id": "W1xvYjxv4DDT"
      }
    },
    {
      "cell_type": "markdown",
      "source": [
        "### GAN(Generative Adversarial Network) : 비지도학습의 대표적인 알고리즘, 경찰과 위조지폐범 사이의 게임\n",
        "##### 비지도 학습 모델을 사용함으로써 이상치 데이터가 매우 적은 클래스 불균형 문제에 영향 받지 않음 + 레이블이 없어도 이상치 데이터 판별 가능 + 새로운 데이터로 새로운 이상치 탐지 모델 개발 가능"
      ],
      "metadata": {
        "id": "I5JF9xVMxERq"
      }
    },
    {
      "cell_type": "markdown",
      "source": [
        "#### Discriminator의 예측 결과에 따라 각 모델의 Loss가 결정되어 서로 학습을 반복, 이 둘은 상호 발전되어 판별자 모델이 생성자 모델이 만드는 데이터를 구별하기 힘들 정도로 만들어 나가는 것을 목표로 한다."
      ],
      "metadata": {
        "id": "RHb0EsQdzJbn"
      }
    },
    {
      "cell_type": "markdown",
      "source": [
        "##생성자(Generator) 만들기\n",
        "####1. 배치정규화 : 레이어의 개수가 늘어나도 안정적인 학습 진행 가능하며, Keras에서는 BatchNormalization() 함수 제공"
      ],
      "metadata": {
        "id": "CEcKyH_v_S2z"
      }
    },
    {
      "cell_type": "code",
      "execution_count": null,
      "metadata": {
        "id": "8FbHV8E8wJ8U"
      },
      "outputs": [],
      "source": []
    },
    {
      "cell_type": "markdown",
      "source": [
        "##판별자(Discriminator) 만들기"
      ],
      "metadata": {
        "id": "KEVxAa1D_lfp"
      }
    },
    {
      "cell_type": "code",
      "source": [],
      "metadata": {
        "id": "XCZPa2ZS_4Zf"
      },
      "execution_count": null,
      "outputs": []
    },
    {
      "cell_type": "code",
      "source": [],
      "metadata": {
        "id": "ZB215Arw_4XX"
      },
      "execution_count": null,
      "outputs": []
    },
    {
      "cell_type": "code",
      "source": [],
      "metadata": {
        "id": "smwyEn9N_4VB"
      },
      "execution_count": null,
      "outputs": []
    },
    {
      "cell_type": "code",
      "source": [],
      "metadata": {
        "id": "l1Q9-kfO_4Sn"
      },
      "execution_count": null,
      "outputs": []
    },
    {
      "cell_type": "markdown",
      "source": [
        "##적대적 신경망 실행하기"
      ],
      "metadata": {
        "id": "mNwiBEqNAqWa"
      }
    },
    {
      "cell_type": "code",
      "source": [],
      "metadata": {
        "id": "dIWfSZMPAu-D"
      },
      "execution_count": null,
      "outputs": []
    },
    {
      "cell_type": "code",
      "source": [],
      "metadata": {
        "id": "3nmq8MWSAu5Q"
      },
      "execution_count": null,
      "outputs": []
    },
    {
      "cell_type": "code",
      "source": [],
      "metadata": {
        "id": "j-YcB72FAuvM"
      },
      "execution_count": null,
      "outputs": []
    }
  ]
}