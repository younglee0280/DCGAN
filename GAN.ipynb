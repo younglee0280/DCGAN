{
  "nbformat": 4,
  "nbformat_minor": 0,
  "metadata": {
    "colab": {
      "provenance": [],
      "authorship_tag": "ABX9TyO1v3XgbFADFO+QO9RJ+4md"
    },
    "kernelspec": {
      "name": "python3",
      "display_name": "Python 3"
    },
    "language_info": {
      "name": "python"
    }
  },
  "cells": [
    {
      "cell_type": "markdown",
      "source": [
        "### 의문 : Labeled data라는 점에서 굳이 Anomaly를 사용하지 않고 Supervised Learning의 Classification 알고리즘을 이용할 수는 없을까?\n",
        "#### 불가능,\n",
        "#### - Anomaly Detection 알고리즘은 데이터 분류 시 밀도를 이용\n",
        "#### - Logistic Regression 알고리즘은 정상적 데이터와 비정상적 데이터가 각각 학습되어야 하는 알고리즘의 특성 상 Anomaly한 데이터 검출 불가능"
      ],
      "metadata": {
        "id": "qAZMTSVd0VeQ"
      }
    },
    {
      "cell_type": "markdown",
      "source": [
        "그럼 이런 건 어떨까...."
      ],
      "metadata": {
        "id": "W1xvYjxv4DDT"
      }
    },
    {
      "cell_type": "markdown",
      "source": [
        "### GAN(Generative Adversarial Network) : 비지도학습의 대표적인 알고리즘\n",
        "##### - 기대효과 : 비지도 학습 모델을 사용함으로써 이상치 데이터가 매우 적은 클래스 불균형 문제에 영향 받지 않음 + 레이블이 없어도 이상치 데이터 판별 가능 + 새로운 데이터로 새로운 이상치 탐지 모델 개발 가능\n",
        "##### - 목표 : Discriminator의 예측 결과에 따라 각 모델의 Loss가 결정되어 서로 학습을 반복, 이 둘은 상호 발전되어 판별자 모델이 생성자 모델이 만드는 데이터를 구별하기 힘들 정도로 만들어야 한다.\n",
        "##### - 과정 : 구분되지 않는 이미지 (z) -> 생성자가 z를 가지고 가짜 이미지 생성 G(z) -> 판별자가 G(z)와 x를 비교하고 진위 여부를 판별, D(G(z))는 fake일때 0 출력, real일 때 1 출력\n",
        "##### => 이 때 진위 여부를 구분한 것이 1번의 epoch이 됨"
      ],
      "metadata": {
        "id": "I5JF9xVMxERq"
      }
    },
    {
      "cell_type": "markdown",
      "source": [
        "##생성자(Generator) 만들기\n",
        "####1. 배치정규화 : 레이어의 개수가 늘어나도 안정적인 학습 진행 가능하며, Keras에서는 BatchNormalization() 함수 제공"
      ],
      "metadata": {
        "id": "CEcKyH_v_S2z"
      }
    },
    {
      "cell_type": "code",
      "execution_count": null,
      "metadata": {
        "id": "8FbHV8E8wJ8U"
      },
      "outputs": [],
      "source": [
        "#sigmoid\n",
        "#vanishing gradient"
      ]
    },
    {
      "cell_type": "markdown",
      "source": [
        "###### (1) Least Squares GAN : G 입장에서 D를 속였다면 더 이상 학습 의지가 없다. (vanishing gradient) 그러나 실제로 가짜 이미지의 경우 진짜 이미지와 차이가 있다. * 따라서 가짜와 진짜 이미지 사이의 차이를 줄이고 D가 least square loss를 사용해 Decision Boundary에서 거리가 있는 데이터들에게 penalty를 준다.\n",
        "\n",
        "###### (2) Semi Supervised GAN : D가 Class를 구분하나 Fake Class를 추가로 구분\n",
        "\n",
        "###### (3) Auxiliary Classifier GAN : SGAN과 유사하나 G가 점차 학습을 진행할수록 좋은 이미지를 만들며 G가 augmentation이 가능"
      ],
      "metadata": {
        "id": "z6Mbm5Q9HmWT"
      }
    },
    {
      "cell_type": "code",
      "source": [],
      "metadata": {
        "id": "4xRwlzLwKvFx"
      },
      "execution_count": null,
      "outputs": []
    },
    {
      "cell_type": "markdown",
      "source": [
        "##판별자(Discriminator) 만들기"
      ],
      "metadata": {
        "id": "KEVxAa1D_lfp"
      }
    },
    {
      "cell_type": "code",
      "source": [
        "#D(G(z)) = 1"
      ],
      "metadata": {
        "id": "XCZPa2ZS_4Zf"
      },
      "execution_count": null,
      "outputs": []
    },
    {
      "cell_type": "code",
      "source": [],
      "metadata": {
        "id": "ZB215Arw_4XX"
      },
      "execution_count": null,
      "outputs": []
    },
    {
      "cell_type": "code",
      "source": [],
      "metadata": {
        "id": "smwyEn9N_4VB"
      },
      "execution_count": null,
      "outputs": []
    },
    {
      "cell_type": "code",
      "source": [],
      "metadata": {
        "id": "l1Q9-kfO_4Sn"
      },
      "execution_count": null,
      "outputs": []
    },
    {
      "cell_type": "markdown",
      "source": [
        "##적대적 신경망 실행하기"
      ],
      "metadata": {
        "id": "mNwiBEqNAqWa"
      }
    },
    {
      "cell_type": "code",
      "source": [],
      "metadata": {
        "id": "dIWfSZMPAu-D"
      },
      "execution_count": null,
      "outputs": []
    },
    {
      "cell_type": "code",
      "source": [],
      "metadata": {
        "id": "3nmq8MWSAu5Q"
      },
      "execution_count": null,
      "outputs": []
    },
    {
      "cell_type": "code",
      "source": [],
      "metadata": {
        "id": "j-YcB72FAuvM"
      },
      "execution_count": null,
      "outputs": []
    }
  ]
}